{
 "cells": [
  {
   "cell_type": "markdown",
   "id": "34c29bec",
   "metadata": {},
   "source": [
    "### 1. Matrix Math, Accuracy, Memory, Speed, & Parallelization"
   ]
  },
  {
   "cell_type": "markdown",
   "id": "4f382585",
   "metadata": {},
   "source": [
    "#### Matrix-Matrix Products"
   ]
  },
  {
   "cell_type": "markdown",
   "id": "fc49897b",
   "metadata": {},
   "source": [
    "<img src=\"images/shop.png\" alt=\"floating point\" style=\"width: 100%\"/>(Source: [Several Simple Real-world Applications of Linear Algebra Tools](https://www.mff.cuni.cz/veda/konference/wds/proc/pdf06/WDS06_106_m8_Ulrychova.pdf))"
   ]
  },
  {
   "cell_type": "code",
   "execution_count": 1,
   "id": "ba0e107e",
   "metadata": {},
   "outputs": [],
   "source": [
    "import numpy as np"
   ]
  },
  {
   "cell_type": "code",
   "execution_count": 15,
   "id": "f5dd8903",
   "metadata": {},
   "outputs": [],
   "source": [
    "A = np.array([[6, 5, 3, 1],\n",
    "              [3, 6, 2, 2],\n",
    "              [3, 4, 3, 1]])"
   ]
  },
  {
   "cell_type": "code",
   "execution_count": 16,
   "id": "949dfcab",
   "metadata": {},
   "outputs": [],
   "source": [
    "B = np.array([[1.5, 1.0],\n",
    "              [2.0, 2.5],\n",
    "              [5.0, 4.5],\n",
    "              [16.0, 17.0]])"
   ]
  },
  {
   "cell_type": "code",
   "execution_count": 17,
   "id": "dfd4a1ad",
   "metadata": {},
   "outputs": [
    {
     "data": {
      "text/plain": [
       "array([[50. , 49. ],\n",
       "       [58.5, 61. ],\n",
       "       [43.5, 43.5]])"
      ]
     },
     "execution_count": 17,
     "metadata": {},
     "output_type": "execute_result"
    }
   ],
   "source": [
    "A @ B"
   ]
  },
  {
   "cell_type": "code",
   "execution_count": null,
   "id": "fe8a709e",
   "metadata": {},
   "outputs": [],
   "source": []
  },
  {
   "cell_type": "code",
   "execution_count": null,
   "id": "07afb793",
   "metadata": {},
   "outputs": [],
   "source": []
  }
 ],
 "metadata": {
  "kernelspec": {
   "display_name": "Python 3 (ipykernel)",
   "language": "python",
   "name": "python3"
  },
  "language_info": {
   "codemirror_mode": {
    "name": "ipython",
    "version": 3
   },
   "file_extension": ".py",
   "mimetype": "text/x-python",
   "name": "python",
   "nbconvert_exporter": "python",
   "pygments_lexer": "ipython3",
   "version": "3.9.12"
  }
 },
 "nbformat": 4,
 "nbformat_minor": 5
}
